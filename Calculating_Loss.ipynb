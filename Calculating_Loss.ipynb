{
  "nbformat": 4,
  "nbformat_minor": 0,
  "metadata": {
    "colab": {
      "name": "Calculating_Loss.ipynb",
      "provenance": []
    },
    "kernelspec": {
      "name": "python3",
      "display_name": "Python 3"
    },
    "language_info": {
      "name": "python"
    }
  },
  "cells": [
    {
      "cell_type": "markdown",
      "source": [
        "Calculating Loss with Categorical Cross- Entropy"
      ],
      "metadata": {
        "id": "3d41qF22rOuF"
      }
    },
    {
      "cell_type": "code",
      "execution_count": 1,
      "metadata": {
        "id": "AvbDOZ-UqKiU"
      },
      "outputs": [],
      "source": [
        "#In mean absolute error as we closer and closer our value lower and lower\n",
        "\n",
        "#In this we are actually using a classification instead of regerssion. This model is outputting a probability distribution\n",
        "\n",
        "# we are doing classification with a softmax activation funcrion in the output layer\n",
        "\n",
        "# the loss function we using here is categorical cross entropy\n",
        "\n",
        "#ONE HOT ENODING: we will have a vector which will be N classes long. The vector will be filled with zeroes except at the index of the target class where we will have 1\n",
        "\n",
        "\n",
        "\n"
      ]
    },
    {
      "cell_type": "code",
      "source": [
        "import math\n",
        "\n",
        "softmax_output=[0.7,0.1,0.2]\n",
        "\n",
        "target_output=[1,0,0]\n",
        "\n",
        "loss=-(math.log(softmax_output[0])*target_output[0]+\n",
        "       math.log(softmax_output[1])*target_output[1]+\n",
        "       math.log(softmax_output[2])*target_output[2])\n",
        "\n",
        "print(loss)\n",
        "       \n",
        "                 "
      ],
      "metadata": {
        "colab": {
          "base_uri": "https://localhost:8080/"
        },
        "id": "UL9c3WM2wc7F",
        "outputId": "053f33bb-a67c-4ce6-ef2c-2f6c754a5a04"
      },
      "execution_count": 3,
      "outputs": [
        {
          "output_type": "stream",
          "name": "stdout",
          "text": [
            "0.35667494393873245\n"
          ]
        }
      ]
    },
    {
      "cell_type": "code",
      "source": [
        "print(-math.log(0.7))\n",
        "print(-math.log(0.5))\n",
        "# as confidence is higher the error becomes lower"
      ],
      "metadata": {
        "colab": {
          "base_uri": "https://localhost:8080/"
        },
        "id": "FZI6WWl8yPi7",
        "outputId": "9c3aebb4-29ef-4ea3-8dbf-161d96ae595c"
      },
      "execution_count": 4,
      "outputs": [
        {
          "output_type": "stream",
          "name": "stdout",
          "text": [
            "0.35667494393873245\n",
            "0.6931471805599453\n"
          ]
        }
      ]
    }
  ]
}